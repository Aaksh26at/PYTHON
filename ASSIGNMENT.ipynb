{
  "nbformat": 4,
  "nbformat_minor": 0,
  "metadata": {
    "colab": {
      "provenance": [],
      "authorship_tag": "ABX9TyNBD8Ck/a3TubfpoDIPneGq",
      "include_colab_link": true
    },
    "kernelspec": {
      "name": "python3",
      "display_name": "Python 3"
    },
    "language_info": {
      "name": "python"
    }
  },
  "cells": [
    {
      "cell_type": "markdown",
      "metadata": {
        "id": "view-in-github",
        "colab_type": "text"
      },
      "source": [
        "<a href=\"https://colab.research.google.com/github/Aaksh26at/PYTHON/blob/main/ASSIGNMENT.ipynb\" target=\"_parent\"><img src=\"https://colab.research.google.com/assets/colab-badge.svg\" alt=\"Open In Colab\"/></a>"
      ]
    },
    {
      "cell_type": "code",
      "execution_count": null,
      "metadata": {
        "colab": {
          "base_uri": "https://localhost:8080/"
        },
        "id": "ubuJFuqknLvk",
        "outputId": "86e33c70-ca1d-46a2-e570-6060891c027d"
      },
      "outputs": [
        {
          "output_type": "stream",
          "name": "stdout",
          "text": [
            "1\n",
            "2\n",
            "3\n",
            "4\n",
            "5\n",
            "6\n",
            "7\n",
            "8\n",
            "9\n",
            "10\n"
          ]
        }
      ],
      "source": [
        "# Write a Python program to print numbers from 1 to 10 using a for loop.\n",
        "\n",
        "# ASSIGNING A FOR LOOP WHICH WILL EXECUTE FROM 1 TO 10\n",
        "for i in range(1,11):\n",
        "\n",
        "# NOW WE PRINT THE NUMBERS\n",
        " print(i)"
      ]
    },
    {
      "cell_type": "code",
      "source": [
        "# Write a Python program to calculate the sum of all numbers from 1 to 100 using a for loop.\n",
        "\n",
        "# INITALIZE THE SUM VARIABLE\n",
        "total_sum = 0\n",
        "\n",
        "# use a for loop to iterate numbers from 1 to 100\n",
        "for number in range(1,101):\n",
        " total_sum += number\n",
        "\n",
        "# print the sum of the numbers\n",
        "print(\"The total of the numbers from 1 to 100 is:\", total_sum)"
      ],
      "metadata": {
        "colab": {
          "base_uri": "https://localhost:8080/"
        },
        "id": "NMpo0JXHnnNC",
        "outputId": "4f0b68af-9799-4fe4-b603-b516d5ee390f"
      },
      "execution_count": null,
      "outputs": [
        {
          "output_type": "stream",
          "name": "stdout",
          "text": [
            "The total of the numbers from 1 to 100 is: 5050\n"
          ]
        }
      ]
    },
    {
      "cell_type": "code",
      "source": [
        "# How do you iterate through a list using a for loop in Python?\n",
        "\n",
        "# DECLAREING A LIST NAME Cricket_list which will iterate through for loop\n",
        "Cricket_list = [\"Bat\",\"Bowl\"]\n",
        "\n",
        "# Creating a for through which we iterate through the list\n",
        "for item in Cricket_list:\n",
        "  print(item)\n"
      ],
      "metadata": {
        "colab": {
          "base_uri": "https://localhost:8080/"
        },
        "id": "xP9pquSugsfu",
        "outputId": "e97a8e46-83ef-4394-9afe-ef124d6bb81e"
      },
      "execution_count": null,
      "outputs": [
        {
          "output_type": "stream",
          "name": "stdout",
          "text": [
            "Bat\n",
            "Bowl\n"
          ]
        }
      ]
    },
    {
      "cell_type": "code",
      "source": [
        "# Write a Python program to find the product of all elements in a list using a for loop.\n",
        "\n",
        "product = 1\n",
        "\n",
        "list_2 = [1,3,4,5,6,7,8]\n",
        "\n",
        "for i in list_2:\n",
        "\n",
        "  product*=i\n",
        "\n",
        "print(product)\n"
      ],
      "metadata": {
        "colab": {
          "base_uri": "https://localhost:8080/"
        },
        "id": "7LROienPiXcw",
        "outputId": "7b1b1734-d8e9-4e1d-dd3f-dd44dc8ddeed"
      },
      "execution_count": null,
      "outputs": [
        {
          "output_type": "stream",
          "name": "stdout",
          "text": [
            "20160\n"
          ]
        }
      ]
    },
    {
      "cell_type": "code",
      "source": [
        "# Create a Python program that prints all even numbers from 1 to 20 using a for loop.\n",
        "\n",
        "for numbers in range(1,21):\n",
        "\n",
        " if numbers % 2 == 0:\n",
        "  print(numbers)\n"
      ],
      "metadata": {
        "id": "pxAlAWosi6iW",
        "colab": {
          "base_uri": "https://localhost:8080/"
        },
        "outputId": "4576b9d5-676c-46a8-a198-ee429fbef2b8"
      },
      "execution_count": 41,
      "outputs": [
        {
          "output_type": "stream",
          "name": "stdout",
          "text": [
            "2\n",
            "4\n",
            "6\n",
            "8\n",
            "10\n",
            "12\n",
            "14\n",
            "16\n",
            "18\n",
            "20\n"
          ]
        }
      ]
    },
    {
      "cell_type": "code",
      "source": [
        "# Write a Python program to find the largest number in a list using a for loop.\n",
        "\n",
        "# Initialize the list\n",
        "numbers = [4, 2, 9, 7, 5, 1]\n",
        "\n",
        "# Initialize the largest number as the first number in the list\n",
        "largest_number = numbers[0]\n",
        "\n",
        "# Iterate over the list\n",
        "for num in numbers:\n",
        "    # If the current number is larger than the largest number, update the largest number\n",
        "    if num > largest_number:\n",
        "        largest_number = num\n",
        "\n",
        "# Print the largest number\n",
        "print(\"The largest number in the list is:\", largest_number)\n"
      ],
      "metadata": {
        "colab": {
          "base_uri": "https://localhost:8080/"
        },
        "id": "MioJ-yLVlGWm",
        "outputId": "f4ab5ff9-d0d6-4963-86a7-983c7d36de85"
      },
      "execution_count": 42,
      "outputs": [
        {
          "output_type": "stream",
          "name": "stdout",
          "text": [
            "The largest number in the list is: 9\n"
          ]
        }
      ]
    },
    {
      "cell_type": "code",
      "source": [
        "# Write a Python program that calculates the factorial of a number using a for loop.\n",
        "\n",
        "# TO TAKE AN INPUT FROM A USER FOR CALCULATING THE FACTORIAL\n",
        "num = int(input(\"Enter a number here: \"))\n",
        "\n",
        "# WE TAKE 1 HERE BECAUSE IF WE TAKE 0 HERE AFTER MULTIPLYING IT WITH THE NUMBER THE RESULT WILL BE ZERO\n",
        "fact = 1\n",
        "\n",
        "# THIS CONDITION IS TO CHECK IF THE NUM IS LESS THAN 0 THEN PRINT FACTORIAL DOES NOT EXIST\n",
        "if num<0:\n",
        "  print(\"factorial does not exist\")\n",
        "# AND IF THE NUM IS EQUAL TO 0 THEN THE FACTORIAL IS = 1\n",
        "if num == 0:\n",
        "    print(\"factorial of 0 is 1\")\n",
        "# AND IF THE NUM IS GREATER THAN 0 THAN WE CALCULATE THE FACTORAIL\n",
        "if num>0:\n",
        "# THIS LINE WILL RUN LOOP THROUGH NUM WHICH ENTER BY THE USER\n",
        "      for i in range(1,num+1):\n",
        "# AND AFTER EACH ITERATION THE NUM WILL MULTIPLY BY 1 TILL THE LOOP CONDITION IS TRUE\n",
        "        fact = fact*i\n",
        "\n",
        "      print(\"the factorial of the number is: \",fact)\n"
      ],
      "metadata": {
        "colab": {
          "base_uri": "https://localhost:8080/"
        },
        "id": "9pzOD1gd2Fs-",
        "outputId": "671ea33d-ac8c-49b6-9793-77c8d260eebc"
      },
      "execution_count": 50,
      "outputs": [
        {
          "output_type": "stream",
          "name": "stdout",
          "text": [
            "Enter a number here: 6\n",
            "the factorial of the number is:  720\n"
          ]
        }
      ]
    },
    {
      "cell_type": "code",
      "source": [
        "my_string = \"Hello, World!\"\n",
        "for char in my_string:\n",
        "    print(char)"
      ],
      "metadata": {
        "colab": {
          "base_uri": "https://localhost:8080/"
        },
        "id": "1-X5gf7I9cAO",
        "outputId": "2fbe0e09-5a10-414b-fc58-92378d6f7f0b"
      },
      "execution_count": 51,
      "outputs": [
        {
          "output_type": "stream",
          "name": "stdout",
          "text": [
            "H\n",
            "e\n",
            "l\n",
            "l\n",
            "o\n",
            ",\n",
            " \n",
            "W\n",
            "o\n",
            "r\n",
            "l\n",
            "d\n",
            "!\n"
          ]
        }
      ]
    },
    {
      "cell_type": "code",
      "source": [
        "# Create a Python program that prints the Fibonacci sequence up to a specified limit using a for loop.\n",
        "\n",
        "a = 0\n",
        "b = 1\n",
        "\n",
        "num = int(input(\"Enter a number to obtain fibonacci sequence :\"))\n",
        "\n",
        "if num==1:\n",
        " print(a)\n",
        "else:\n",
        " print(a)\n",
        " print(b)\n",
        " for i in range(1,num+1):\n",
        "  c = a+b\n",
        "  a = b\n",
        "  b = c\n",
        "  print(c)\n"
      ],
      "metadata": {
        "colab": {
          "base_uri": "https://localhost:8080/"
        },
        "id": "lIZh0uX_-vRu",
        "outputId": "ac28fb6d-a80b-44c9-faf6-ce9e0fff9f02"
      },
      "execution_count": 56,
      "outputs": [
        {
          "output_type": "stream",
          "name": "stdout",
          "text": [
            "Enter a number to obtain fibonacci sequence :7\n",
            "0\n",
            "1\n",
            "1\n",
            "2\n",
            "3\n",
            "5\n",
            "8\n",
            "13\n",
            "21\n"
          ]
        }
      ]
    },
    {
      "cell_type": "markdown",
      "source": [
        "For loop\n",
        "\n",
        "For loop is used to iterate over a sequence of items.\n",
        "\n",
        "For loops are designed for iterating over a sequence of items. Eg.\n",
        "list, tuple, etc.\n",
        "\n",
        "For loop require a sequence to iterate over.\n",
        "\n",
        "For loop is typically used for iterating over a fixed sequence of items\n",
        "\n",
        "For loop is more efficient than a while loop when iterating over sequences, since the number of iterations is predetermined and the loop can be optimized accordingly.\n",
        "\n",
        "While loop\n",
        "\n",
        "While loop is used to repeatedly execute a block of statements while a condition is true.\n",
        "\n",
        "While loop is used to repeatedly execute a block of statements while a condition is true.\n",
        "\n",
        "While the loop requires an initial condition that is tested at the beginning of the loop.\n",
        "\n",
        "While loop is used for more complex control flow situations.\n",
        "\n",
        "While a loop may be more efficient in certain situations where the condition being tested can be evaluated quickly."
      ],
      "metadata": {
        "id": "aY-opwQyPQmX"
      }
    }
  ]
}