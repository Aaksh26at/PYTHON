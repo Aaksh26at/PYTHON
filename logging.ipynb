{
 "cells": [
  {
   "cell_type": "code",
   "execution_count": 1,
   "metadata": {},
   "outputs": [
    {
     "name": "stderr",
     "output_type": "stream",
     "text": [
      "DEBUG:root:this is the debug message\n",
      "INFO:root:this is the info message\n",
      "WARNING:root:this is the warning message\n",
      "ERROR:root:this is the error message\n",
      "CRITICAL:root:this is the critical message\n"
     ]
    }
   ],
   "source": [
    "import logging\n",
    "\n",
    "logging.basicConfig(level=logging.DEBUG)\n",
    "\n",
    "logging.debug(\"this is the debug message\")\n",
    "logging.info(\"this is the info message\")\n",
    "logging.warning(\"this is the warning message\")\n",
    "logging.error(\"this is the error message\")\n",
    "logging.critical(\"this is the critical message\")"
   ]
  },
  {
   "cell_type": "code",
   "execution_count": 2,
   "metadata": {},
   "outputs": [
    {
     "name": "stderr",
     "output_type": "stream",
     "text": [
      "DEBUG:root:this is the debug message\n",
      "INFO:root:this is the info message\n",
      "WARNING:root:this is the warning message\n",
      "ERROR:root:this is the error message\n",
      "CRITICAL:root:this is the critical message\n"
     ]
    }
   ],
   "source": [
    "logging.basicConfig(\n",
    "       level=logging.DEBUG,\n",
    "       filename=\"app.log\",\n",
    "       filemode='w',\n",
    "       format='%(asctime)s-%(name)s-%(levelname)s-%(message)s',\n",
    "       datefmt='%y-%m-%d %H:%M:%S'\n",
    ")\n",
    "\n",
    "logging.debug(\"this is the debug message\")\n",
    "logging.info(\"this is the info message\")\n",
    "logging.warning(\"this is the warning message\")\n",
    "logging.error(\"this is the error message\")\n",
    "logging.critical(\"this is the critical message\")"
   ]
  },
  {
   "cell_type": "code",
   "execution_count": 9,
   "metadata": {},
   "outputs": [
    {
     "name": "stderr",
     "output_type": "stream",
     "text": [
      "DEBUG:root:this is debug\n"
     ]
    }
   ],
   "source": [
    "import logging\n",
    "\n",
    "logging.basicConfig(level=logging.DEBUG , filename=\"log.log\" , filemode=\"w\")\n",
    "\n",
    "logging.debug(\"this is debug\")"
   ]
  },
  {
   "cell_type": "code",
   "execution_count": 6,
   "metadata": {},
   "outputs": [
    {
     "name": "stdout",
     "output_type": "stream",
     "text": [
      "c:\\Users\\Poorvi Agarwal\\Desktop\\pyhton\n"
     ]
    }
   ],
   "source": [
    "import os\n",
    "\n",
    "print(os.getcwd())"
   ]
  },
  {
   "cell_type": "code",
   "execution_count": 8,
   "metadata": {},
   "outputs": [],
   "source": [
    "logging.basicConfig(level=logging.DEBUG, filename=\"c:\\\\Users\\\\Poorvi Agarwal\\\\Desktop\\\\python\\\\log.log\", filemode=\"w\")\n"
   ]
  }
 ],
 "metadata": {
  "kernelspec": {
   "display_name": "Python 3",
   "language": "python",
   "name": "python3"
  },
  "language_info": {
   "codemirror_mode": {
    "name": "ipython",
    "version": 3
   },
   "file_extension": ".py",
   "mimetype": "text/x-python",
   "name": "python",
   "nbconvert_exporter": "python",
   "pygments_lexer": "ipython3",
   "version": "3.11.9"
  }
 },
 "nbformat": 4,
 "nbformat_minor": 2
}
