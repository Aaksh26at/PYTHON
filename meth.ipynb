{
 "cells": [
  {
   "cell_type": "code",
   "execution_count": 50,
   "metadata": {},
   "outputs": [
    {
     "name": "stdout",
     "output_type": "stream",
     "text": [
      "HELLO WORLD\n"
     ]
    }
   ],
   "source": [
    "print(\"HELLO WORLD\")"
   ]
  },
  {
   "cell_type": "code",
   "execution_count": 51,
   "metadata": {},
   "outputs": [
    {
     "name": "stdout",
     "output_type": "stream",
     "text": [
      "audi\n",
      "2020\n",
      "audi car is started\n"
     ]
    }
   ],
   "source": [
    "class car:\n",
    "       def __init__(self,name,year):\n",
    "              self.name = name\n",
    "              self.year = year\n",
    "              \n",
    "       def start_engine(self):\n",
    "              print(f\"{self.name} car is started\")\n",
    "              \n",
    "audi = car(\"audi\",2020)\n",
    "print(audi.name)\n",
    "print(audi.year)\n",
    "audi.start_engine()"
   ]
  },
  {
   "cell_type": "code",
   "execution_count": 52,
   "metadata": {},
   "outputs": [
    {
     "name": "stdout",
     "output_type": "stream",
     "text": [
      "21\n",
      "aaskhat\n"
     ]
    }
   ],
   "source": [
    "class Student:\n",
    "       def __init__(self,name,age):\n",
    "              self.name = name\n",
    "              self.age = age\n",
    "\n",
    "\n",
    "stu1 = Student(\"aaskhat\",21)\n",
    "print(stu1.age)\n",
    "print(stu1.name)"
   ]
  },
  {
   "cell_type": "code",
   "execution_count": 53,
   "metadata": {},
   "outputs": [
    {
     "name": "stdout",
     "output_type": "stream",
     "text": [
      "5000\n",
      "123444\n",
      "The balance is 5100  now  after  deposit of 100\n",
      "4100\n"
     ]
    }
   ],
   "source": [
    "class bankaccount:\n",
    "       def __init__(self,account_number,balance=0):\n",
    "              self.account_number = account_number\n",
    "              self.balance = balance\n",
    "       def deposit(self,deposit1):\n",
    "              self.balance+=deposit1\n",
    "              print(f\"The balance is {self.balance}  now  after  deposit of {deposit1}\")\n",
    "              \n",
    "       def withdraw(self,withdraw1):\n",
    "              if(self.balance<withdraw1):\n",
    "                     print(\"INSUFFICENT FUNDS\")\n",
    "              else:\n",
    "                     self.balance-=withdraw1\n",
    "                     print(f\"{self.balance}\")\n",
    "                     \n",
    "\n",
    "b1 = bankaccount(123444,5000)\n",
    "print(b1.balance)\n",
    "print(b1.account_number)\n",
    "(b1.deposit(100))\n",
    "(b1.withdraw(1000))"
   ]
  },
  {
   "cell_type": "code",
   "execution_count": 54,
   "metadata": {},
   "outputs": [
    {
     "name": "stdout",
     "output_type": "stream",
     "text": [
      "<__main__.library object at 0x000001663485F310>\n"
     ]
    }
   ],
   "source": [
    "class library:\n",
    "       def __init__(self,name,author,year,amount=1550):\n",
    "              self.name = name\n",
    "              self.author = author\n",
    "              self.year = year\n",
    "              self.amount = amount\n",
    "       def fess(self,amount):\n",
    "              self.amount = amount\n",
    "              print(f\"The {self.name} is this and {self.author} is this and published year is {self.year} and the amount left is {self.amount}\")\n",
    "              self.amount-=amount\n",
    "\n",
    "l1 = library(\"Aakshat\",\"willam\",1970,456)\n",
    "print(l1)"
   ]
  },
  {
   "cell_type": "code",
   "execution_count": 55,
   "metadata": {},
   "outputs": [
    {
     "name": "stdout",
     "output_type": "stream",
     "text": [
      "The name of student is aakshat\n",
      "The id of the student is 23\n",
      "The id of the studnet is 45\n"
     ]
    }
   ],
   "source": [
    "class Student:\n",
    "       def __init__(self,name,id):\n",
    "              self.name = name\n",
    "              self.id = id\n",
    "       \n",
    "       def stu_id(self):\n",
    "              return F\"The id of the studnet is {self.id}\"\n",
    "       \n",
    "class details(Student):\n",
    "       def __init__(self, name, id,subject):\n",
    "              super().__init__(name, id)\n",
    "              self.subject = subject\n",
    "\n",
    "       def stu_name(self):\n",
    "              return f\"The name of student is {d1.name}\"\n",
    "       \n",
    "       def stu_id(self):\n",
    "              return f\"The id of the student is {d1.id}\"\n",
    "              \n",
    "d1 = details(\"aakshat\",23,\"MCA\")\n",
    "print(d1.stu_name())\n",
    "print(d1.stu_id())\n",
    "\n",
    "s1 = Student(\"Saksham\",45)\n",
    "print(s1.stu_id())\n"
   ]
  },
  {
   "cell_type": "code",
   "execution_count": 56,
   "metadata": {},
   "outputs": [
    {
     "name": "stdout",
     "output_type": "stream",
     "text": [
      "Aakshat\n",
      "21\n",
      "1234\n",
      "The name of the Employee is Aakshat and the age is 21 and the id is 1234 \n"
     ]
    }
   ],
   "source": [
    "class Person:\n",
    "       def __init__(self,name,age):\n",
    "              self.name = name\n",
    "              self.age = age\n",
    "\n",
    "class Employee(Person):\n",
    "       def __init__(self,name,age,employee_id):\n",
    "              super().__init__(name,age)\n",
    "              self.employee_id = employee_id\n",
    "\n",
    "       def __str__(self):\n",
    "              return f\"The name of the Employee is {self.name} and the age is {self.age} and the id is {self.employee_id} \"\n",
    "\n",
    "E1 = Employee(\"Aakshat\",21,1234)\n",
    "print(E1.name)\n",
    "print(E1.age)\n",
    "print(E1.employee_id)\n",
    "print(E1)"
   ]
  },
  {
   "cell_type": "code",
   "execution_count": 57,
   "metadata": {},
   "outputs": [
    {
     "name": "stdout",
     "output_type": "stream",
     "text": [
      "Name: John Doe, Address: 123 Main St, Springfield, 12345\n"
     ]
    }
   ],
   "source": [
    "class Address:\n",
    "    def __init__(self, street, city, pincode):\n",
    "        self.street = street\n",
    "        self.city = city\n",
    "        self.pincode = pincode\n",
    "\n",
    "    def __str__(self):\n",
    "        return f\"{self.street}, {self.city}, {self.pincode}\"\n",
    "\n",
    "class Person:\n",
    "    def __init__(self, name, address):\n",
    "        self.name = name\n",
    "        self.address = address  # address is an Address object\n",
    "\n",
    "    def __str__(self):\n",
    "        return f\"Name: {self.name}, Address: {self.address}\"\n",
    "\n",
    "# Creating an Address object\n",
    "home_address = Address(\"123 Main St\", \"Springfield\", \"12345\")\n",
    "\n",
    "# Creating a Person object with the Address object\n",
    "person = Person(\"John Doe\", home_address)\n",
    "\n",
    "# Printing the person's details, including the address\n",
    "print(person)  # Output: Name: John Doe, Address: 123 Main St, Springfield, 12345\n"
   ]
  },
  {
   "cell_type": "code",
   "execution_count": 58,
   "metadata": {},
   "outputs": [
    {
     "name": "stdout",
     "output_type": "stream",
     "text": [
      "2\n"
     ]
    }
   ],
   "source": [
    "class Count_1:\n",
    "   count = 0\n",
    "   def __init__(self):\n",
    "       Count_1.count+=1\n",
    "\n",
    "C1 = Count_1()\n",
    "C2 = Count_1()\n",
    "print(f\"{Count_1.count}\")\n"
   ]
  },
  {
   "cell_type": "code",
   "execution_count": 64,
   "metadata": {},
   "outputs": [
    {
     "name": "stdout",
     "output_type": "stream",
     "text": [
      "The area of the circle is 3629.84\n",
      "The area of the square is 18704\n"
     ]
    }
   ],
   "source": [
    "from abc import ABC,abstractmethod\n",
    "class Shape:\n",
    "       @abstractmethod\n",
    "       def area(self):\n",
    "              pass\n",
    "\n",
    "class circle(Shape):\n",
    "       def __init__(self,radius):\n",
    "              self.radius = radius\n",
    "       def area(self):\n",
    "              return f\"The area of the circle is {3.14 * self.radius*self.radius}\"\n",
    "\n",
    "class Square(Shape):\n",
    "       def __init__(self,length,breadth):\n",
    "              self.length = length\n",
    "              self.breadth =breadth\n",
    "       def area(self):\n",
    "              return f\"The area of the square is {self.length * self.breadth}\"\n",
    "\n",
    "\n",
    "c1 = circle(34)\n",
    "print(c1.area())\n",
    "\n",
    "s1 = Square(334,56)\n",
    "print(s1.area())"
   ]
  },
  {
   "cell_type": "code",
   "execution_count": 22,
   "metadata": {},
   "outputs": [
    {
     "name": "stdout",
     "output_type": "stream",
     "text": [
      "satya' score is 90.6\n",
      "ram' score is 88.6\n",
      "shyam' score is 88.0\n"
     ]
    }
   ],
   "source": [
    "score = {\n",
    "'satya' : [92,88,94,90,89],\n",
    "'ram' : [98,89,78,87,91],\n",
    "'shyam' : [88,98,89,78,87]\n",
    "}\n",
    "\n",
    "for name,marks in score.items():\n",
    "  average = sum(marks)/len(marks)\n",
    "  print(f\"{name}' score is {average}\")"
   ]
  },
  {
   "cell_type": "code",
   "execution_count": 1,
   "metadata": {},
   "outputs": [
    {
     "name": "stdout",
     "output_type": "stream",
     "text": [
      "HELLO WORLD\n"
     ]
    }
   ],
   "source": [
    "print(\"HELLO WORLD\")"
   ]
  },
  {
   "cell_type": "code",
   "execution_count": 18,
   "metadata": {},
   "outputs": [
    {
     "name": "stdout",
     "output_type": "stream",
     "text": [
      "Aakshat agarwal\n",
      "You are not a admin\n",
      "None\n",
      "21\n",
      "34456\n",
      "34\n"
     ]
    }
   ],
   "source": [
    "class Employee:\n",
    "       def __init__(self,name,id,age,phone_number,user_profile):\n",
    "              self.__name = name\n",
    "              self.__id = id\n",
    "              self.__age = age\n",
    "              self.__phone_number = phone_number\n",
    "              self.user_profile = user_profile\n",
    "\n",
    "       def set_name(self,name):\n",
    "             self.__name = name\n",
    "             \n",
    "       def get_name(self):\n",
    "              return self.__name\n",
    "       \n",
    "       def set_id(self,id):\n",
    "              if(self.__id)>0:\n",
    "               self.__id = id\n",
    "              else:\n",
    "                     print(\"ID CANNOT BE NEGATIVE\")\n",
    "       def get_id(self):\n",
    "              if self.user_profile == \"Admin\":\n",
    "               return self.__id\n",
    "              else:\n",
    "                     print(\"You are not a admin\")\n",
    "       def set_age(self,age):\n",
    "              if(self.__age)>0:\n",
    "                     self.__age = age\n",
    "              else:\n",
    "                     print(\"AGE CANNOT BE NEGATIVE\")\n",
    "       def get_age(self):\n",
    "              return self.__age\n",
    "              \n",
    "       def set_phone_number(self,phone_number):\n",
    "              if len(self.__phone_number)==11:\n",
    "                     self.__phone_number  = phone_number\n",
    "              else:\n",
    "                     print(\"The phone_number length cannot be more than 11\")\n",
    "       def get_phone_number(self):\n",
    "              return self.__phone_number\n",
    "\n",
    "\n",
    "E1 = Employee(\"Aakshat agarwal\",12,21,34456,\"xyz\")\n",
    "E2  = Employee(\"Aakshat\",34,56,6422,\"Admin\")\n",
    "\n",
    "print(E1.get_name())\n",
    "print(E1.get_id())\n",
    "print(E1.get_age())\n",
    "print(E1.get_phone_number())\n",
    "\n",
    "\n",
    "print(E2.get_id())\n",
    "                     \n",
    "\n",
    "\n",
    "              "
   ]
  },
  {
   "cell_type": "code",
   "execution_count": 14,
   "metadata": {},
   "outputs": [
    {
     "name": "stdout",
     "output_type": "stream",
     "text": [
      "Aakshat Agarwal\n",
      "21\n",
      "12345678901\n",
      "Admin User\n",
      "34\n",
      "98765432101\n"
     ]
    }
   ],
   "source": [
    "# class Employee:\n",
    "#     def __init__(self, name, emp_id, age, phone_number, user_profile):\n",
    "#         self.__name = name\n",
    "#         self.__id = emp_id\n",
    "#         self.__age = age\n",
    "#         self.__phone_number = phone_number\n",
    "#         self.user_profile = user_profile\n",
    "\n",
    "#     def set_name(self, name):\n",
    "#         self.__name = name\n",
    "\n",
    "#     def get_name(self):\n",
    "#         return self.__name\n",
    "\n",
    "#     def set_id(self, emp_id):\n",
    "#         if emp_id > 0:\n",
    "#             self.__id = emp_id\n",
    "#         else:\n",
    "#             print(\"ID CANNOT BE NEGATIVE\")\n",
    "\n",
    "#     def get_id(self):\n",
    "#         if self.user_profile == \"Admin\":\n",
    "#             return self.__id\n",
    "#         else:\n",
    "#             print(\"You are not an admin\")\n",
    "\n",
    "#     def set_age(self, age):\n",
    "#         if age > 0:\n",
    "#             self.__age = age\n",
    "#         else:\n",
    "#             print(\"AGE CANNOT BE NEGATIVE\")\n",
    "\n",
    "#     def get_age(self):\n",
    "#         return self.__age\n",
    "\n",
    "#     def set_phone_number(self, phone_number):\n",
    "#         if len(phone_number) == 11:\n",
    "#             self.__phone_number = phone_number\n",
    "#         else:\n",
    "#             print(\"The phone number length must be exactly 11 digits\")\n",
    "\n",
    "#     def get_phone_number(self):\n",
    "#         return self.__phone_number\n",
    "\n",
    "\n",
    "# # Example usage\n",
    "# E1 = Employee(\"Aakshat Agarwal\", 12, 21, \"12345678901\", \"User\")\n",
    "# E2 = Employee(\"Admin User\", 34, 56, \"98765432101\", \"Admin\")\n",
    "\n",
    "# # User accessing their own information\n",
    "# print(E1.get_name())\n",
    "# print(E1.get_age())\n",
    "# print(E1.get_phone_number())\n",
    "\n",
    "# # Admin accessing specific employee information\n",
    "# print(E2.get_name())\n",
    "# print(E2.get_id())  # Admin can access ID\n",
    "# print(E2.get_phone_number())\n"
   ]
  },
  {
   "cell_type": "code",
   "execution_count": 6,
   "metadata": {},
   "outputs": [
    {
     "name": "stdout",
     "output_type": "stream",
     "text": [
      "You are not a admin\n"
     ]
    }
   ],
   "source": [
    "class check:\n",
    "       def __init__(self,password,admin,user,user_profile):\n",
    "              self.__password = password\n",
    "              self.admin = admin\n",
    "              self.user = user\n",
    "              self.user_profile = user_profile\n",
    "       \n",
    "       def set_password(self,password):\n",
    "              self.__password = password\n",
    "       def get_password(self):\n",
    "              if(self.user_profile == self.admin):\n",
    "               return self.__password\n",
    "              else:\n",
    "                     return (\"You are not a admin\")\n",
    "\n",
    "\n",
    "c1 = check(\"xyz\",123,456,456)\n",
    "\n",
    "print(c1.get_password())"
   ]
  },
  {
   "cell_type": "code",
   "execution_count": 8,
   "metadata": {},
   "outputs": [
    {
     "name": "stdout",
     "output_type": "stream",
     "text": [
      "[1, 5, 9]\n"
     ]
    }
   ],
   "source": [
    "numbers = [1,2,3,4,5,6,7,8,9,10]\n",
    "print(numbers[::4])"
   ]
  },
  {
   "cell_type": "code",
   "execution_count": 9,
   "metadata": {},
   "outputs": [
    {
     "name": "stdout",
     "output_type": "stream",
     "text": [
      "[10, 9, 8, 7, 6, 5, 4, 3, 2, 1]\n"
     ]
    }
   ],
   "source": [
    "print(numbers[::-1])"
   ]
  },
  {
   "cell_type": "code",
   "execution_count": 11,
   "metadata": {},
   "outputs": [
    {
     "data": {
      "text/plain": [
       "[0, 1, 4, 9, 16, 25, 36, 49, 64, 81, 100]"
      ]
     },
     "execution_count": 11,
     "metadata": {},
     "output_type": "execute_result"
    }
   ],
   "source": [
    "[x**2 for x in range(11)]"
   ]
  },
  {
   "cell_type": "code",
   "execution_count": 18,
   "metadata": {},
   "outputs": [
    {
     "name": "stdout",
     "output_type": "stream",
     "text": [
      "[0, 2, 4, 6, 8, 10]\n"
     ]
    }
   ],
   "source": [
    "check = [ x for  x in range(11) if x%2==0]\n",
    "print(check)"
   ]
  },
  {
   "cell_type": "code",
   "execution_count": 24,
   "metadata": {},
   "outputs": [
    {
     "name": "stdout",
     "output_type": "stream",
     "text": [
      "[1, 2, 3, 4, 5, 6, 7, 8, 9, 10, 11, 12, 13, 14, 15, 16, 17, 18, 19, 20]\n"
     ]
    }
   ],
   "source": [
    "l1 = []\n",
    "for i in range(21):\n",
    "       if i>0:\n",
    "              l1.append(i)\n",
    "       else:\n",
    "              pass\n",
    "\n",
    "print(l1)"
   ]
  },
  {
   "cell_type": "code",
   "execution_count": 27,
   "metadata": {},
   "outputs": [
    {
     "name": "stdout",
     "output_type": "stream",
     "text": [
      "[1]\n"
     ]
    }
   ],
   "source": [
    "print(l1[0:10:10])"
   ]
  },
  {
   "cell_type": "code",
   "execution_count": 28,
   "metadata": {},
   "outputs": [
    {
     "name": "stdout",
     "output_type": "stream",
     "text": [
      "[1, 2, 3, 4, 5, 6, 7, 8, 9, 10, 11, 12, 13, 14, 15, 16, 17, 18, 19, 20]\n"
     ]
    }
   ],
   "source": [
    "print(l1)"
   ]
  },
  {
   "cell_type": "code",
   "execution_count": 5,
   "metadata": {},
   "outputs": [
    {
     "name": "stdout",
     "output_type": "stream",
     "text": [
      "1\n",
      "20\n",
      "11\n"
     ]
    }
   ],
   "source": [
    "l1 = [1,2,3,4,5,6,7,8,9,10,11,12,13,14,15,16,17,18,19,20]\n",
    "\n",
    "print(l1[0])\n",
    "print(l1[-1])\n",
    "print(l1[len(l1)//2])"
   ]
  },
  {
   "cell_type": "code",
   "execution_count": 37,
   "metadata": {},
   "outputs": [
    {
     "name": "stdout",
     "output_type": "stream",
     "text": [
      "[1, 2, 3, 4, 5]\n",
      "[16, 17, 18, 19, 20]\n",
      "[6, 7, 8, 9, 10, 11, 12, 13, 14, 15, 16]\n"
     ]
    }
   ],
   "source": [
    "print(l1[0:5])\n",
    "print(l1[-5:])\n",
    "print(l1[5:16])"
   ]
  },
  {
   "cell_type": "code",
   "execution_count": 9,
   "metadata": {},
   "outputs": [
    {
     "name": "stdout",
     "output_type": "stream",
     "text": [
      "[2, 4, 6, 8, 10, 12, 14, 16, 18, 20]\n"
     ]
    }
   ],
   "source": [
    "check = [x for x in l1 if x%2==0]\n",
    "print(check)"
   ]
  },
  {
   "cell_type": "code",
   "execution_count": 13,
   "metadata": {},
   "outputs": [
    {
     "name": "stdout",
     "output_type": "stream",
     "text": [
      "<class 'list'>\n",
      "3\n"
     ]
    }
   ],
   "source": [
    "l2 = [[1,2,3],[3,4,5],[4,6,7]]\n",
    "print(type(l2))\n",
    "print(len(l2))"
   ]
  },
  {
   "cell_type": "code",
   "execution_count": 6,
   "metadata": {},
   "outputs": [
    {
     "name": "stdout",
     "output_type": "stream",
     "text": [
      "1\n",
      "2\n",
      "5\n"
     ]
    }
   ],
   "source": [
    "elements = [1,2,3,4,5]\n",
    "\n",
    "for i in elements:\n",
    "       if i == 3:\n",
    "              elements.remove(3)\n",
    "       else:\n",
    "              print(i)"
   ]
  },
  {
   "cell_type": "code",
   "execution_count": null,
   "metadata": {},
   "outputs": [],
   "source": []
  }
 ],
 "metadata": {
  "kernelspec": {
   "display_name": "Python 3",
   "language": "python",
   "name": "python3"
  },
  "language_info": {
   "codemirror_mode": {
    "name": "ipython",
    "version": 3
   },
   "file_extension": ".py",
   "mimetype": "text/x-python",
   "name": "python",
   "nbconvert_exporter": "python",
   "pygments_lexer": "ipython3",
   "version": "3.11.9"
  }
 },
 "nbformat": 4,
 "nbformat_minor": 2
}
